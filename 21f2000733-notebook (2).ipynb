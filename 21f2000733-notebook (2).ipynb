{
 "cells": [
  {
   "cell_type": "code",
   "execution_count": 1,
   "id": "34e2ec56",
   "metadata": {
    "_cell_guid": "b1076dfc-b9ad-4769-8c92-a6c4dae69d19",
    "_uuid": "8f2839f25d086af736a60e9eeb907d3b93b6e0e5",
    "execution": {
     "iopub.execute_input": "2023-04-11T12:34:57.537622Z",
     "iopub.status.busy": "2023-04-11T12:34:57.537063Z",
     "iopub.status.idle": "2023-04-11T12:34:57.555167Z",
     "shell.execute_reply": "2023-04-11T12:34:57.554063Z"
    },
    "papermill": {
     "duration": 0.034932,
     "end_time": "2023-04-11T12:34:57.559646",
     "exception": false,
     "start_time": "2023-04-11T12:34:57.524714",
     "status": "completed"
    },
    "tags": []
   },
   "outputs": [
    {
     "name": "stdout",
     "output_type": "stream",
     "text": [
      "/kaggle/input/e-commerce-shoppers-behaviour-understanding/test_data_v2.csv\n",
      "/kaggle/input/e-commerce-shoppers-behaviour-understanding/train_data_v2.csv\n",
      "/kaggle/input/e-commerce-shoppers-behaviour-understanding/sample.csv\n"
     ]
    }
   ],
   "source": [
    "# This Python 3 environment comes with many helpful analytics libraries installed\n",
    "# It is defined by the kaggle/python Docker image: https://github.com/kaggle/docker-python\n",
    "# For example, here's several helpful packages to load\n",
    "\n",
    "import numpy as np # linear algebra\n",
    "import pandas as pd # data processing, CSV file I/O (e.g. pd.read_csv)\n",
    "\n",
    "# Input data files are available in the read-only \"../input/\" directory\n",
    "# For example, running this (by clicking run or pressing Shift+Enter) will list all files under the input directory\n",
    "\n",
    "import os\n",
    "for dirname, _, filenames in os.walk('/kaggle/input'):\n",
    "    for filename in filenames:\n",
    "        print(os.path.join(dirname, filename))\n",
    "\n",
    "# You can write up to 20GB to the current directory (/kaggle/working/) that gets preserved as output when you create a version using \"Save & Run All\" \n",
    "# You can also write temporary files to /kaggle/temp/, but they won't be saved outside of the current session"
   ]
  },
  {
   "cell_type": "code",
   "execution_count": 2,
   "id": "f5e72bb1",
   "metadata": {
    "execution": {
     "iopub.execute_input": "2023-04-11T12:34:57.591340Z",
     "iopub.status.busy": "2023-04-11T12:34:57.589589Z",
     "iopub.status.idle": "2023-04-11T12:34:57.596130Z",
     "shell.execute_reply": "2023-04-11T12:34:57.594694Z"
    },
    "papermill": {
     "duration": 0.025233,
     "end_time": "2023-04-11T12:34:57.599379",
     "exception": false,
     "start_time": "2023-04-11T12:34:57.574146",
     "status": "completed"
    },
    "tags": []
   },
   "outputs": [],
   "source": [
    "import pandas as pd\n",
    "import numpy as np"
   ]
  },
  {
   "cell_type": "code",
   "execution_count": 3,
   "id": "179053ad",
   "metadata": {
    "execution": {
     "iopub.execute_input": "2023-04-11T12:34:57.627151Z",
     "iopub.status.busy": "2023-04-11T12:34:57.626067Z",
     "iopub.status.idle": "2023-04-11T12:34:57.758361Z",
     "shell.execute_reply": "2023-04-11T12:34:57.756969Z"
    },
    "papermill": {
     "duration": 0.14985,
     "end_time": "2023-04-11T12:34:57.761146",
     "exception": false,
     "start_time": "2023-04-11T12:34:57.611296",
     "status": "completed"
    },
    "tags": []
   },
   "outputs": [
    {
     "name": "stdout",
     "output_type": "stream",
     "text": [
      "(14731, 22)\n"
     ]
    },
    {
     "data": {
      "text/html": [
       "<div>\n",
       "<style scoped>\n",
       "    .dataframe tbody tr th:only-of-type {\n",
       "        vertical-align: middle;\n",
       "    }\n",
       "\n",
       "    .dataframe tbody tr th {\n",
       "        vertical-align: top;\n",
       "    }\n",
       "\n",
       "    .dataframe thead th {\n",
       "        text-align: right;\n",
       "    }\n",
       "</style>\n",
       "<table border=\"1\" class=\"dataframe\">\n",
       "  <thead>\n",
       "    <tr style=\"text-align: right;\">\n",
       "      <th></th>\n",
       "      <th>HomePage</th>\n",
       "      <th>HomePage_Duration</th>\n",
       "      <th>LandingPage</th>\n",
       "      <th>LandingPage_Duration</th>\n",
       "      <th>ProductDescriptionPage</th>\n",
       "      <th>ProductDescriptionPage_Duration</th>\n",
       "      <th>GoogleMetric:Bounce Rates</th>\n",
       "      <th>GoogleMetric:Exit Rates</th>\n",
       "      <th>GoogleMetric:Page Values</th>\n",
       "      <th>SeasonalPurchase</th>\n",
       "      <th>...</th>\n",
       "      <th>SearchEngine</th>\n",
       "      <th>Zone</th>\n",
       "      <th>Type of Traffic</th>\n",
       "      <th>CustomerType</th>\n",
       "      <th>Gender</th>\n",
       "      <th>Cookies Setting</th>\n",
       "      <th>Education</th>\n",
       "      <th>Marital Status</th>\n",
       "      <th>WeekendPurchase</th>\n",
       "      <th>Made_Purchase</th>\n",
       "    </tr>\n",
       "  </thead>\n",
       "  <tbody>\n",
       "    <tr>\n",
       "      <th>0</th>\n",
       "      <td>0.0</td>\n",
       "      <td>0.0</td>\n",
       "      <td>0.0</td>\n",
       "      <td>0.0</td>\n",
       "      <td>1.0</td>\n",
       "      <td>0.000000</td>\n",
       "      <td>0.20</td>\n",
       "      <td>0.20</td>\n",
       "      <td>0.0</td>\n",
       "      <td>0.0</td>\n",
       "      <td>...</td>\n",
       "      <td>1.0</td>\n",
       "      <td>9.0</td>\n",
       "      <td>3.0</td>\n",
       "      <td>Returning_Visitor</td>\n",
       "      <td>Not Specified</td>\n",
       "      <td>Deny</td>\n",
       "      <td>Not Specified</td>\n",
       "      <td>Other</td>\n",
       "      <td>0.0</td>\n",
       "      <td>False</td>\n",
       "    </tr>\n",
       "    <tr>\n",
       "      <th>1</th>\n",
       "      <td>0.0</td>\n",
       "      <td>0.0</td>\n",
       "      <td>0.0</td>\n",
       "      <td>0.0</td>\n",
       "      <td>2.0</td>\n",
       "      <td>2.666667</td>\n",
       "      <td>0.05</td>\n",
       "      <td>0.14</td>\n",
       "      <td>0.0</td>\n",
       "      <td>0.0</td>\n",
       "      <td>...</td>\n",
       "      <td>2.0</td>\n",
       "      <td>2.0</td>\n",
       "      <td>4.0</td>\n",
       "      <td>Returning_Visitor</td>\n",
       "      <td>Female</td>\n",
       "      <td>Deny</td>\n",
       "      <td>Others</td>\n",
       "      <td>Married</td>\n",
       "      <td>0.0</td>\n",
       "      <td>False</td>\n",
       "    </tr>\n",
       "    <tr>\n",
       "      <th>2</th>\n",
       "      <td>0.0</td>\n",
       "      <td>0.0</td>\n",
       "      <td>0.0</td>\n",
       "      <td>0.0</td>\n",
       "      <td>10.0</td>\n",
       "      <td>627.500000</td>\n",
       "      <td>0.02</td>\n",
       "      <td>0.05</td>\n",
       "      <td>0.0</td>\n",
       "      <td>0.0</td>\n",
       "      <td>...</td>\n",
       "      <td>3.0</td>\n",
       "      <td>1.0</td>\n",
       "      <td>4.0</td>\n",
       "      <td>Returning_Visitor</td>\n",
       "      <td>Female</td>\n",
       "      <td>ALL</td>\n",
       "      <td>Others</td>\n",
       "      <td>Married</td>\n",
       "      <td>1.0</td>\n",
       "      <td>False</td>\n",
       "    </tr>\n",
       "    <tr>\n",
       "      <th>3</th>\n",
       "      <td>0.0</td>\n",
       "      <td>0.0</td>\n",
       "      <td>0.0</td>\n",
       "      <td>0.0</td>\n",
       "      <td>1.0</td>\n",
       "      <td>0.000000</td>\n",
       "      <td>0.20</td>\n",
       "      <td>0.20</td>\n",
       "      <td>0.0</td>\n",
       "      <td>0.4</td>\n",
       "      <td>...</td>\n",
       "      <td>4.0</td>\n",
       "      <td>3.0</td>\n",
       "      <td>3.0</td>\n",
       "      <td>Returning_Visitor</td>\n",
       "      <td>Male</td>\n",
       "      <td>ALL</td>\n",
       "      <td>Diploma</td>\n",
       "      <td>Single</td>\n",
       "      <td>0.0</td>\n",
       "      <td>False</td>\n",
       "    </tr>\n",
       "    <tr>\n",
       "      <th>4</th>\n",
       "      <td>1.0</td>\n",
       "      <td>0.0</td>\n",
       "      <td>0.0</td>\n",
       "      <td>0.0</td>\n",
       "      <td>0.0</td>\n",
       "      <td>0.000000</td>\n",
       "      <td>0.20</td>\n",
       "      <td>0.20</td>\n",
       "      <td>0.0</td>\n",
       "      <td>0.0</td>\n",
       "      <td>...</td>\n",
       "      <td>2.0</td>\n",
       "      <td>1.0</td>\n",
       "      <td>5.0</td>\n",
       "      <td>Returning_Visitor</td>\n",
       "      <td>Male</td>\n",
       "      <td>Deny</td>\n",
       "      <td>Diploma</td>\n",
       "      <td>Other</td>\n",
       "      <td>1.0</td>\n",
       "      <td>False</td>\n",
       "    </tr>\n",
       "  </tbody>\n",
       "</table>\n",
       "<p>5 rows × 22 columns</p>\n",
       "</div>"
      ],
      "text/plain": [
       "   HomePage  HomePage_Duration  LandingPage  LandingPage_Duration  \\\n",
       "0       0.0                0.0          0.0                   0.0   \n",
       "1       0.0                0.0          0.0                   0.0   \n",
       "2       0.0                0.0          0.0                   0.0   \n",
       "3       0.0                0.0          0.0                   0.0   \n",
       "4       1.0                0.0          0.0                   0.0   \n",
       "\n",
       "   ProductDescriptionPage  ProductDescriptionPage_Duration  \\\n",
       "0                     1.0                         0.000000   \n",
       "1                     2.0                         2.666667   \n",
       "2                    10.0                       627.500000   \n",
       "3                     1.0                         0.000000   \n",
       "4                     0.0                         0.000000   \n",
       "\n",
       "   GoogleMetric:Bounce Rates  GoogleMetric:Exit Rates  \\\n",
       "0                       0.20                     0.20   \n",
       "1                       0.05                     0.14   \n",
       "2                       0.02                     0.05   \n",
       "3                       0.20                     0.20   \n",
       "4                       0.20                     0.20   \n",
       "\n",
       "   GoogleMetric:Page Values  SeasonalPurchase  ... SearchEngine  Zone  \\\n",
       "0                       0.0               0.0  ...          1.0   9.0   \n",
       "1                       0.0               0.0  ...          2.0   2.0   \n",
       "2                       0.0               0.0  ...          3.0   1.0   \n",
       "3                       0.0               0.4  ...          4.0   3.0   \n",
       "4                       0.0               0.0  ...          2.0   1.0   \n",
       "\n",
       "   Type of Traffic       CustomerType         Gender Cookies Setting  \\\n",
       "0              3.0  Returning_Visitor  Not Specified            Deny   \n",
       "1              4.0  Returning_Visitor         Female            Deny   \n",
       "2              4.0  Returning_Visitor         Female             ALL   \n",
       "3              3.0  Returning_Visitor           Male             ALL   \n",
       "4              5.0  Returning_Visitor           Male            Deny   \n",
       "\n",
       "       Education Marital Status WeekendPurchase Made_Purchase  \n",
       "0  Not Specified          Other             0.0         False  \n",
       "1         Others        Married             0.0         False  \n",
       "2         Others        Married             1.0         False  \n",
       "3        Diploma         Single             0.0         False  \n",
       "4        Diploma          Other             1.0         False  \n",
       "\n",
       "[5 rows x 22 columns]"
      ]
     },
     "execution_count": 3,
     "metadata": {},
     "output_type": "execute_result"
    }
   ],
   "source": [
    "train_data = pd.read_csv('/kaggle/input/e-commerce-shoppers-behaviour-understanding/train_data_v2.csv')\n",
    "print(train_data.shape)\n",
    "train_data.head()"
   ]
  },
  {
   "cell_type": "code",
   "execution_count": 4,
   "id": "0c6b5cb3",
   "metadata": {
    "execution": {
     "iopub.execute_input": "2023-04-11T12:34:57.781603Z",
     "iopub.status.busy": "2023-04-11T12:34:57.781204Z",
     "iopub.status.idle": "2023-04-11T12:34:57.853322Z",
     "shell.execute_reply": "2023-04-11T12:34:57.852066Z"
    },
    "papermill": {
     "duration": 0.085479,
     "end_time": "2023-04-11T12:34:57.856131",
     "exception": false,
     "start_time": "2023-04-11T12:34:57.770652",
     "status": "completed"
    },
    "tags": []
   },
   "outputs": [
    {
     "name": "stdout",
     "output_type": "stream",
     "text": [
      "(6599, 21)\n"
     ]
    },
    {
     "data": {
      "text/html": [
       "<div>\n",
       "<style scoped>\n",
       "    .dataframe tbody tr th:only-of-type {\n",
       "        vertical-align: middle;\n",
       "    }\n",
       "\n",
       "    .dataframe tbody tr th {\n",
       "        vertical-align: top;\n",
       "    }\n",
       "\n",
       "    .dataframe thead th {\n",
       "        text-align: right;\n",
       "    }\n",
       "</style>\n",
       "<table border=\"1\" class=\"dataframe\">\n",
       "  <thead>\n",
       "    <tr style=\"text-align: right;\">\n",
       "      <th></th>\n",
       "      <th>HomePage</th>\n",
       "      <th>HomePage_Duration</th>\n",
       "      <th>LandingPage</th>\n",
       "      <th>LandingPage_Duration</th>\n",
       "      <th>ProductDescriptionPage</th>\n",
       "      <th>ProductDescriptionPage_Duration</th>\n",
       "      <th>GoogleMetric:Bounce Rates</th>\n",
       "      <th>GoogleMetric:Exit Rates</th>\n",
       "      <th>GoogleMetric:Page Values</th>\n",
       "      <th>SeasonalPurchase</th>\n",
       "      <th>...</th>\n",
       "      <th>OS</th>\n",
       "      <th>SearchEngine</th>\n",
       "      <th>Zone</th>\n",
       "      <th>Type of Traffic</th>\n",
       "      <th>CustomerType</th>\n",
       "      <th>Gender</th>\n",
       "      <th>Cookies Setting</th>\n",
       "      <th>Education</th>\n",
       "      <th>Marital Status</th>\n",
       "      <th>WeekendPurchase</th>\n",
       "    </tr>\n",
       "  </thead>\n",
       "  <tbody>\n",
       "    <tr>\n",
       "      <th>0</th>\n",
       "      <td>0.0</td>\n",
       "      <td>0.0</td>\n",
       "      <td>0.0</td>\n",
       "      <td>0.0</td>\n",
       "      <td>1.0</td>\n",
       "      <td>0.000000</td>\n",
       "      <td>0.200000</td>\n",
       "      <td>0.200000</td>\n",
       "      <td>0.0</td>\n",
       "      <td>0.0</td>\n",
       "      <td>...</td>\n",
       "      <td>1.0</td>\n",
       "      <td>1.0</td>\n",
       "      <td>1.0</td>\n",
       "      <td>1.0</td>\n",
       "      <td>Returning_Visitor</td>\n",
       "      <td>Not Specified</td>\n",
       "      <td>Deny</td>\n",
       "      <td>Not Specified</td>\n",
       "      <td>Single</td>\n",
       "      <td>0.0</td>\n",
       "    </tr>\n",
       "    <tr>\n",
       "      <th>1</th>\n",
       "      <td>0.0</td>\n",
       "      <td>0.0</td>\n",
       "      <td>0.0</td>\n",
       "      <td>0.0</td>\n",
       "      <td>2.0</td>\n",
       "      <td>64.000000</td>\n",
       "      <td>0.000000</td>\n",
       "      <td>0.100000</td>\n",
       "      <td>0.0</td>\n",
       "      <td>0.0</td>\n",
       "      <td>...</td>\n",
       "      <td>2.0</td>\n",
       "      <td>2.0</td>\n",
       "      <td>1.0</td>\n",
       "      <td>2.0</td>\n",
       "      <td>Returning_Visitor</td>\n",
       "      <td>Not Specified</td>\n",
       "      <td>ALL</td>\n",
       "      <td>Graduate</td>\n",
       "      <td>Married</td>\n",
       "      <td>0.0</td>\n",
       "    </tr>\n",
       "    <tr>\n",
       "      <th>2</th>\n",
       "      <td>0.0</td>\n",
       "      <td>0.0</td>\n",
       "      <td>0.0</td>\n",
       "      <td>0.0</td>\n",
       "      <td>19.0</td>\n",
       "      <td>154.216667</td>\n",
       "      <td>0.015789</td>\n",
       "      <td>0.024561</td>\n",
       "      <td>0.0</td>\n",
       "      <td>0.0</td>\n",
       "      <td>...</td>\n",
       "      <td>2.0</td>\n",
       "      <td>2.0</td>\n",
       "      <td>1.0</td>\n",
       "      <td>3.0</td>\n",
       "      <td>Returning_Visitor</td>\n",
       "      <td>Female</td>\n",
       "      <td>Required</td>\n",
       "      <td>Diploma</td>\n",
       "      <td>Other</td>\n",
       "      <td>0.0</td>\n",
       "    </tr>\n",
       "    <tr>\n",
       "      <th>3</th>\n",
       "      <td>0.0</td>\n",
       "      <td>0.0</td>\n",
       "      <td>0.0</td>\n",
       "      <td>0.0</td>\n",
       "      <td>2.0</td>\n",
       "      <td>37.000000</td>\n",
       "      <td>0.000000</td>\n",
       "      <td>0.100000</td>\n",
       "      <td>0.0</td>\n",
       "      <td>0.8</td>\n",
       "      <td>...</td>\n",
       "      <td>2.0</td>\n",
       "      <td>2.0</td>\n",
       "      <td>2.0</td>\n",
       "      <td>3.0</td>\n",
       "      <td>Returning_Visitor</td>\n",
       "      <td>Not Specified</td>\n",
       "      <td>Required</td>\n",
       "      <td>Graduate</td>\n",
       "      <td>Other</td>\n",
       "      <td>0.0</td>\n",
       "    </tr>\n",
       "    <tr>\n",
       "      <th>4</th>\n",
       "      <td>0.0</td>\n",
       "      <td>0.0</td>\n",
       "      <td>0.0</td>\n",
       "      <td>0.0</td>\n",
       "      <td>16.0</td>\n",
       "      <td>407.750000</td>\n",
       "      <td>0.018750</td>\n",
       "      <td>0.025833</td>\n",
       "      <td>0.0</td>\n",
       "      <td>0.4</td>\n",
       "      <td>...</td>\n",
       "      <td>1.0</td>\n",
       "      <td>1.0</td>\n",
       "      <td>4.0</td>\n",
       "      <td>3.0</td>\n",
       "      <td>Returning_Visitor</td>\n",
       "      <td>Female</td>\n",
       "      <td>Deny</td>\n",
       "      <td>Others</td>\n",
       "      <td>Other</td>\n",
       "      <td>0.0</td>\n",
       "    </tr>\n",
       "  </tbody>\n",
       "</table>\n",
       "<p>5 rows × 21 columns</p>\n",
       "</div>"
      ],
      "text/plain": [
       "   HomePage  HomePage_Duration  LandingPage  LandingPage_Duration  \\\n",
       "0       0.0                0.0          0.0                   0.0   \n",
       "1       0.0                0.0          0.0                   0.0   \n",
       "2       0.0                0.0          0.0                   0.0   \n",
       "3       0.0                0.0          0.0                   0.0   \n",
       "4       0.0                0.0          0.0                   0.0   \n",
       "\n",
       "   ProductDescriptionPage  ProductDescriptionPage_Duration  \\\n",
       "0                     1.0                         0.000000   \n",
       "1                     2.0                        64.000000   \n",
       "2                    19.0                       154.216667   \n",
       "3                     2.0                        37.000000   \n",
       "4                    16.0                       407.750000   \n",
       "\n",
       "   GoogleMetric:Bounce Rates  GoogleMetric:Exit Rates  \\\n",
       "0                   0.200000                 0.200000   \n",
       "1                   0.000000                 0.100000   \n",
       "2                   0.015789                 0.024561   \n",
       "3                   0.000000                 0.100000   \n",
       "4                   0.018750                 0.025833   \n",
       "\n",
       "   GoogleMetric:Page Values  SeasonalPurchase  ...   OS  SearchEngine  Zone  \\\n",
       "0                       0.0               0.0  ...  1.0           1.0   1.0   \n",
       "1                       0.0               0.0  ...  2.0           2.0   1.0   \n",
       "2                       0.0               0.0  ...  2.0           2.0   1.0   \n",
       "3                       0.0               0.8  ...  2.0           2.0   2.0   \n",
       "4                       0.0               0.4  ...  1.0           1.0   4.0   \n",
       "\n",
       "   Type of Traffic       CustomerType         Gender Cookies Setting  \\\n",
       "0              1.0  Returning_Visitor  Not Specified            Deny   \n",
       "1              2.0  Returning_Visitor  Not Specified             ALL   \n",
       "2              3.0  Returning_Visitor         Female        Required   \n",
       "3              3.0  Returning_Visitor  Not Specified        Required   \n",
       "4              3.0  Returning_Visitor         Female            Deny   \n",
       "\n",
       "       Education Marital Status WeekendPurchase  \n",
       "0  Not Specified         Single             0.0  \n",
       "1       Graduate        Married             0.0  \n",
       "2        Diploma          Other             0.0  \n",
       "3       Graduate          Other             0.0  \n",
       "4         Others          Other             0.0  \n",
       "\n",
       "[5 rows x 21 columns]"
      ]
     },
     "execution_count": 4,
     "metadata": {},
     "output_type": "execute_result"
    }
   ],
   "source": [
    "test_data = pd.read_csv(\"/kaggle/input/e-commerce-shoppers-behaviour-understanding/test_data_v2.csv\")\n",
    "print(test_data.shape)\n",
    "test_data.head()"
   ]
  },
  {
   "cell_type": "code",
   "execution_count": 5,
   "id": "8100b1a4",
   "metadata": {
    "execution": {
     "iopub.execute_input": "2023-04-11T12:34:57.877786Z",
     "iopub.status.busy": "2023-04-11T12:34:57.876952Z",
     "iopub.status.idle": "2023-04-11T12:34:57.952466Z",
     "shell.execute_reply": "2023-04-11T12:34:57.951398Z"
    },
    "papermill": {
     "duration": 0.089193,
     "end_time": "2023-04-11T12:34:57.955141",
     "exception": false,
     "start_time": "2023-04-11T12:34:57.865948",
     "status": "completed"
    },
    "tags": []
   },
   "outputs": [
    {
     "data": {
      "text/html": [
       "<div>\n",
       "<style scoped>\n",
       "    .dataframe tbody tr th:only-of-type {\n",
       "        vertical-align: middle;\n",
       "    }\n",
       "\n",
       "    .dataframe tbody tr th {\n",
       "        vertical-align: top;\n",
       "    }\n",
       "\n",
       "    .dataframe thead th {\n",
       "        text-align: right;\n",
       "    }\n",
       "</style>\n",
       "<table border=\"1\" class=\"dataframe\">\n",
       "  <thead>\n",
       "    <tr style=\"text-align: right;\">\n",
       "      <th></th>\n",
       "      <th>HomePage</th>\n",
       "      <th>HomePage_Duration</th>\n",
       "      <th>LandingPage</th>\n",
       "      <th>LandingPage_Duration</th>\n",
       "      <th>ProductDescriptionPage</th>\n",
       "      <th>ProductDescriptionPage_Duration</th>\n",
       "      <th>GoogleMetric:Bounce Rates</th>\n",
       "      <th>GoogleMetric:Exit Rates</th>\n",
       "      <th>GoogleMetric:Page Values</th>\n",
       "      <th>SeasonalPurchase</th>\n",
       "      <th>OS</th>\n",
       "      <th>SearchEngine</th>\n",
       "      <th>Zone</th>\n",
       "      <th>Type of Traffic</th>\n",
       "      <th>WeekendPurchase</th>\n",
       "    </tr>\n",
       "  </thead>\n",
       "  <tbody>\n",
       "    <tr>\n",
       "      <th>count</th>\n",
       "      <td>14578.000000</td>\n",
       "      <td>14581.000000</td>\n",
       "      <td>14578.000000</td>\n",
       "      <td>14596.000000</td>\n",
       "      <td>14608.000000</td>\n",
       "      <td>14564.000000</td>\n",
       "      <td>14580.000000</td>\n",
       "      <td>14602.000000</td>\n",
       "      <td>14599.000000</td>\n",
       "      <td>14581.000000</td>\n",
       "      <td>14597.000000</td>\n",
       "      <td>14609.000000</td>\n",
       "      <td>14614.000000</td>\n",
       "      <td>14588.000000</td>\n",
       "      <td>14610.000000</td>\n",
       "    </tr>\n",
       "    <tr>\n",
       "      <th>mean</th>\n",
       "      <td>2.250240</td>\n",
       "      <td>79.300762</td>\n",
       "      <td>0.490739</td>\n",
       "      <td>33.455943</td>\n",
       "      <td>31.559488</td>\n",
       "      <td>1184.346084</td>\n",
       "      <td>0.023366</td>\n",
       "      <td>0.044664</td>\n",
       "      <td>4.812620</td>\n",
       "      <td>0.064083</td>\n",
       "      <td>2.122422</td>\n",
       "      <td>2.356629</td>\n",
       "      <td>3.155673</td>\n",
       "      <td>4.090143</td>\n",
       "      <td>0.234155</td>\n",
       "    </tr>\n",
       "    <tr>\n",
       "      <th>std</th>\n",
       "      <td>3.288042</td>\n",
       "      <td>179.374699</td>\n",
       "      <td>1.252376</td>\n",
       "      <td>140.146256</td>\n",
       "      <td>44.897089</td>\n",
       "      <td>2009.496307</td>\n",
       "      <td>0.050011</td>\n",
       "      <td>0.049912</td>\n",
       "      <td>16.887366</td>\n",
       "      <td>0.202583</td>\n",
       "      <td>0.914404</td>\n",
       "      <td>1.721823</td>\n",
       "      <td>2.405155</td>\n",
       "      <td>4.040147</td>\n",
       "      <td>0.423484</td>\n",
       "    </tr>\n",
       "    <tr>\n",
       "      <th>min</th>\n",
       "      <td>0.000000</td>\n",
       "      <td>0.000000</td>\n",
       "      <td>0.000000</td>\n",
       "      <td>0.000000</td>\n",
       "      <td>0.000000</td>\n",
       "      <td>0.000000</td>\n",
       "      <td>0.000000</td>\n",
       "      <td>0.000000</td>\n",
       "      <td>0.000000</td>\n",
       "      <td>0.000000</td>\n",
       "      <td>1.000000</td>\n",
       "      <td>1.000000</td>\n",
       "      <td>1.000000</td>\n",
       "      <td>1.000000</td>\n",
       "      <td>0.000000</td>\n",
       "    </tr>\n",
       "    <tr>\n",
       "      <th>25%</th>\n",
       "      <td>0.000000</td>\n",
       "      <td>0.000000</td>\n",
       "      <td>0.000000</td>\n",
       "      <td>0.000000</td>\n",
       "      <td>7.000000</td>\n",
       "      <td>173.187500</td>\n",
       "      <td>0.000000</td>\n",
       "      <td>0.014502</td>\n",
       "      <td>0.000000</td>\n",
       "      <td>0.000000</td>\n",
       "      <td>2.000000</td>\n",
       "      <td>2.000000</td>\n",
       "      <td>1.000000</td>\n",
       "      <td>2.000000</td>\n",
       "      <td>0.000000</td>\n",
       "    </tr>\n",
       "    <tr>\n",
       "      <th>50%</th>\n",
       "      <td>1.000000</td>\n",
       "      <td>5.000000</td>\n",
       "      <td>0.000000</td>\n",
       "      <td>0.000000</td>\n",
       "      <td>17.500000</td>\n",
       "      <td>584.333333</td>\n",
       "      <td>0.003478</td>\n",
       "      <td>0.026406</td>\n",
       "      <td>0.000000</td>\n",
       "      <td>0.000000</td>\n",
       "      <td>2.000000</td>\n",
       "      <td>2.000000</td>\n",
       "      <td>3.000000</td>\n",
       "      <td>2.000000</td>\n",
       "      <td>0.000000</td>\n",
       "    </tr>\n",
       "    <tr>\n",
       "      <th>75%</th>\n",
       "      <td>3.000000</td>\n",
       "      <td>91.000000</td>\n",
       "      <td>0.000000</td>\n",
       "      <td>0.000000</td>\n",
       "      <td>38.000000</td>\n",
       "      <td>1434.255128</td>\n",
       "      <td>0.018182</td>\n",
       "      <td>0.050000</td>\n",
       "      <td>0.000000</td>\n",
       "      <td>0.000000</td>\n",
       "      <td>3.000000</td>\n",
       "      <td>2.000000</td>\n",
       "      <td>4.000000</td>\n",
       "      <td>4.000000</td>\n",
       "      <td>0.000000</td>\n",
       "    </tr>\n",
       "    <tr>\n",
       "      <th>max</th>\n",
       "      <td>27.000000</td>\n",
       "      <td>3398.750000</td>\n",
       "      <td>24.000000</td>\n",
       "      <td>2549.375000</td>\n",
       "      <td>705.000000</td>\n",
       "      <td>63973.522230</td>\n",
       "      <td>0.200000</td>\n",
       "      <td>0.200000</td>\n",
       "      <td>361.763742</td>\n",
       "      <td>1.000000</td>\n",
       "      <td>8.000000</td>\n",
       "      <td>13.000000</td>\n",
       "      <td>9.000000</td>\n",
       "      <td>20.000000</td>\n",
       "      <td>1.000000</td>\n",
       "    </tr>\n",
       "  </tbody>\n",
       "</table>\n",
       "</div>"
      ],
      "text/plain": [
       "           HomePage  HomePage_Duration   LandingPage  LandingPage_Duration  \\\n",
       "count  14578.000000       14581.000000  14578.000000          14596.000000   \n",
       "mean       2.250240          79.300762      0.490739             33.455943   \n",
       "std        3.288042         179.374699      1.252376            140.146256   \n",
       "min        0.000000           0.000000      0.000000              0.000000   \n",
       "25%        0.000000           0.000000      0.000000              0.000000   \n",
       "50%        1.000000           5.000000      0.000000              0.000000   \n",
       "75%        3.000000          91.000000      0.000000              0.000000   \n",
       "max       27.000000        3398.750000     24.000000           2549.375000   \n",
       "\n",
       "       ProductDescriptionPage  ProductDescriptionPage_Duration  \\\n",
       "count            14608.000000                     14564.000000   \n",
       "mean                31.559488                      1184.346084   \n",
       "std                 44.897089                      2009.496307   \n",
       "min                  0.000000                         0.000000   \n",
       "25%                  7.000000                       173.187500   \n",
       "50%                 17.500000                       584.333333   \n",
       "75%                 38.000000                      1434.255128   \n",
       "max                705.000000                     63973.522230   \n",
       "\n",
       "       GoogleMetric:Bounce Rates  GoogleMetric:Exit Rates  \\\n",
       "count               14580.000000             14602.000000   \n",
       "mean                    0.023366                 0.044664   \n",
       "std                     0.050011                 0.049912   \n",
       "min                     0.000000                 0.000000   \n",
       "25%                     0.000000                 0.014502   \n",
       "50%                     0.003478                 0.026406   \n",
       "75%                     0.018182                 0.050000   \n",
       "max                     0.200000                 0.200000   \n",
       "\n",
       "       GoogleMetric:Page Values  SeasonalPurchase            OS  SearchEngine  \\\n",
       "count              14599.000000      14581.000000  14597.000000  14609.000000   \n",
       "mean                   4.812620          0.064083      2.122422      2.356629   \n",
       "std                   16.887366          0.202583      0.914404      1.721823   \n",
       "min                    0.000000          0.000000      1.000000      1.000000   \n",
       "25%                    0.000000          0.000000      2.000000      2.000000   \n",
       "50%                    0.000000          0.000000      2.000000      2.000000   \n",
       "75%                    0.000000          0.000000      3.000000      2.000000   \n",
       "max                  361.763742          1.000000      8.000000     13.000000   \n",
       "\n",
       "               Zone  Type of Traffic  WeekendPurchase  \n",
       "count  14614.000000     14588.000000     14610.000000  \n",
       "mean       3.155673         4.090143         0.234155  \n",
       "std        2.405155         4.040147         0.423484  \n",
       "min        1.000000         1.000000         0.000000  \n",
       "25%        1.000000         2.000000         0.000000  \n",
       "50%        3.000000         2.000000         0.000000  \n",
       "75%        4.000000         4.000000         0.000000  \n",
       "max        9.000000        20.000000         1.000000  "
      ]
     },
     "execution_count": 5,
     "metadata": {},
     "output_type": "execute_result"
    }
   ],
   "source": [
    "train_data.describe()"
   ]
  },
  {
   "cell_type": "code",
   "execution_count": 6,
   "id": "23bd80db",
   "metadata": {
    "execution": {
     "iopub.execute_input": "2023-04-11T12:34:57.977796Z",
     "iopub.status.busy": "2023-04-11T12:34:57.977349Z",
     "iopub.status.idle": "2023-04-11T12:34:57.993260Z",
     "shell.execute_reply": "2023-04-11T12:34:57.991494Z"
    },
    "papermill": {
     "duration": 0.030488,
     "end_time": "2023-04-11T12:34:57.996028",
     "exception": false,
     "start_time": "2023-04-11T12:34:57.965540",
     "status": "completed"
    },
    "tags": []
   },
   "outputs": [
    {
     "name": "stdout",
     "output_type": "stream",
     "text": [
      "HomePage                           153\n",
      "HomePage_Duration                  150\n",
      "LandingPage                        153\n",
      "LandingPage_Duration               135\n",
      "ProductDescriptionPage             123\n",
      "ProductDescriptionPage_Duration    167\n",
      "GoogleMetric:Bounce Rates          151\n",
      "GoogleMetric:Exit Rates            129\n",
      "GoogleMetric:Page Values           132\n",
      "SeasonalPurchase                   150\n",
      "Month_SeasonalPurchase             144\n",
      "OS                                 134\n",
      "SearchEngine                       122\n",
      "Zone                               117\n",
      "Type of Traffic                    143\n",
      "CustomerType                       144\n",
      "Gender                             145\n",
      "Cookies Setting                    144\n",
      "Education                          136\n",
      "Marital Status                     130\n",
      "WeekendPurchase                    121\n",
      "dtype: int64\n"
     ]
    }
   ],
   "source": [
    "#Check for missing -values for training data\n",
    "missing_val_count_by_column = (train_data.isnull().sum())\n",
    "print(missing_val_count_by_column[missing_val_count_by_column > 0])"
   ]
  },
  {
   "cell_type": "code",
   "execution_count": 7,
   "id": "b04e6a60",
   "metadata": {
    "execution": {
     "iopub.execute_input": "2023-04-11T12:34:58.019419Z",
     "iopub.status.busy": "2023-04-11T12:34:58.019027Z",
     "iopub.status.idle": "2023-04-11T12:34:58.023961Z",
     "shell.execute_reply": "2023-04-11T12:34:58.022678Z"
    },
    "papermill": {
     "duration": 0.018913,
     "end_time": "2023-04-11T12:34:58.026335",
     "exception": false,
     "start_time": "2023-04-11T12:34:58.007422",
     "status": "completed"
    },
    "tags": []
   },
   "outputs": [],
   "source": [
    "train = train_data\n",
    "test = test_data"
   ]
  },
  {
   "cell_type": "code",
   "execution_count": 8,
   "id": "aae7ffb1",
   "metadata": {
    "execution": {
     "iopub.execute_input": "2023-04-11T12:34:58.048451Z",
     "iopub.status.busy": "2023-04-11T12:34:58.048044Z",
     "iopub.status.idle": "2023-04-11T12:34:58.052740Z",
     "shell.execute_reply": "2023-04-11T12:34:58.051487Z"
    },
    "papermill": {
     "duration": 0.018779,
     "end_time": "2023-04-11T12:34:58.055325",
     "exception": false,
     "start_time": "2023-04-11T12:34:58.036546",
     "status": "completed"
    },
    "tags": []
   },
   "outputs": [],
   "source": [
    "#y = train_data.Made_Purchase\n",
    "#X = train_data.drop(labels = 'Made_Purchase',axis = 1)"
   ]
  },
  {
   "cell_type": "code",
   "execution_count": 9,
   "id": "a77718ec",
   "metadata": {
    "execution": {
     "iopub.execute_input": "2023-04-11T12:34:58.077362Z",
     "iopub.status.busy": "2023-04-11T12:34:58.076967Z",
     "iopub.status.idle": "2023-04-11T12:34:58.084122Z",
     "shell.execute_reply": "2023-04-11T12:34:58.082677Z"
    },
    "papermill": {
     "duration": 0.021436,
     "end_time": "2023-04-11T12:34:58.086765",
     "exception": false,
     "start_time": "2023-04-11T12:34:58.065329",
     "status": "completed"
    },
    "tags": []
   },
   "outputs": [],
   "source": [
    "#separate numerical and categorical variables\n",
    "cat_cols = [col for col in train.columns if train[col].dtype == 'object']\n",
    "num_cols = [col for col in test.columns if train[col].dtype != 'object']\n"
   ]
  },
  {
   "cell_type": "code",
   "execution_count": 10,
   "id": "168479ac",
   "metadata": {
    "execution": {
     "iopub.execute_input": "2023-04-11T12:34:58.108741Z",
     "iopub.status.busy": "2023-04-11T12:34:58.108357Z",
     "iopub.status.idle": "2023-04-11T12:34:59.462975Z",
     "shell.execute_reply": "2023-04-11T12:34:59.461380Z"
    },
    "papermill": {
     "duration": 1.369656,
     "end_time": "2023-04-11T12:34:59.466301",
     "exception": false,
     "start_time": "2023-04-11T12:34:58.096645",
     "status": "completed"
    },
    "tags": []
   },
   "outputs": [],
   "source": [
    "\n",
    "#SimpleImputer for numerical columns\n",
    "#from sklearn.experimental import enable_iterative_imputer\n",
    "from sklearn.impute import SimpleImputer\n",
    "\n",
    "impute = SimpleImputer()\n",
    "train[num_cols] = impute.fit_transform(train[num_cols])\n",
    "\n",
    "test[num_cols] = impute.transform(test[num_cols])\n"
   ]
  },
  {
   "cell_type": "code",
   "execution_count": 11,
   "id": "8321809a",
   "metadata": {
    "execution": {
     "iopub.execute_input": "2023-04-11T12:34:59.488536Z",
     "iopub.status.busy": "2023-04-11T12:34:59.488100Z",
     "iopub.status.idle": "2023-04-11T12:34:59.605343Z",
     "shell.execute_reply": "2023-04-11T12:34:59.604166Z"
    },
    "papermill": {
     "duration": 0.132024,
     "end_time": "2023-04-11T12:34:59.608504",
     "exception": false,
     "start_time": "2023-04-11T12:34:59.476480",
     "status": "completed"
    },
    "tags": []
   },
   "outputs": [],
   "source": [
    "#ordinalEncoding for categorical data\n",
    "\n",
    "from sklearn.preprocessing import OneHotEncoder, StandardScaler,PowerTransformer\n",
    "\n",
    "impute_cat=SimpleImputer(strategy = 'most_frequent')\n",
    "categorical = cat_cols\n",
    "\n",
    "train[categorical] = impute_cat.fit_transform(train[categorical])\n",
    "test[categorical] = impute_cat.transform(test[categorical])\n",
    "\n",
    "#apply OneHotEncoder\n",
    "\n",
    "oh_encoder = OneHotEncoder(handle_unknown = 'ignore')\n",
    "\n",
    "train_oh = pd.DataFrame((oh_encoder.fit_transform(train[categorical])).toarray(),columns = oh_encoder.get_feature_names_out(cat_cols))\n",
    "test_oh = pd.DataFrame((oh_encoder.transform(test[categorical])).toarray(),columns = oh_encoder.get_feature_names_out(cat_cols))\n",
    "\n",
    "\n",
    "train = pd.concat([train, train_oh],axis = 1)\n",
    "test = pd.concat([test,test_oh],axis = 1)\n",
    "                          \n",
    "train.drop(categorical,axis = 1, inplace = True)\n",
    "test.drop(categorical,axis = 1, inplace = True)\n",
    "              \n"
   ]
  },
  {
   "cell_type": "code",
   "execution_count": 12,
   "id": "46891da4",
   "metadata": {
    "execution": {
     "iopub.execute_input": "2023-04-11T12:34:59.630722Z",
     "iopub.status.busy": "2023-04-11T12:34:59.630244Z",
     "iopub.status.idle": "2023-04-11T12:34:59.927900Z",
     "shell.execute_reply": "2023-04-11T12:34:59.926433Z"
    },
    "papermill": {
     "duration": 0.312429,
     "end_time": "2023-04-11T12:34:59.931128",
     "exception": false,
     "start_time": "2023-04-11T12:34:59.618699",
     "status": "completed"
    },
    "tags": []
   },
   "outputs": [],
   "source": [
    "numerical = num_cols\n",
    "\n",
    "pow_tran = PowerTransformer()\n",
    "train[numerical] = pow_tran.fit_transform(train[numerical])\n",
    "test[numerical] = pow_tran.transform(test[numerical])"
   ]
  },
  {
   "cell_type": "code",
   "execution_count": 13,
   "id": "4e1c8b29",
   "metadata": {
    "execution": {
     "iopub.execute_input": "2023-04-11T12:34:59.953562Z",
     "iopub.status.busy": "2023-04-11T12:34:59.953088Z",
     "iopub.status.idle": "2023-04-11T12:35:00.047602Z",
     "shell.execute_reply": "2023-04-11T12:35:00.045772Z"
    },
    "papermill": {
     "duration": 0.112253,
     "end_time": "2023-04-11T12:35:00.053495",
     "exception": false,
     "start_time": "2023-04-11T12:34:59.941242",
     "status": "completed"
    },
    "tags": []
   },
   "outputs": [],
   "source": [
    "from sklearn.decomposition import PCA\n",
    "\n",
    "#pca to numerical cols\n",
    "num_copy = numerical\n",
    "\n",
    "pca = PCA()\n",
    "pca.fit(train[num_copy])\n",
    "\n",
    "n_components = np.argmax(np.cumsum(pca.explained_variance_ratio_)>=0.99)+1\n",
    "\n",
    "pca = PCA(n_components = n_components)\n",
    "\n",
    "train_pca = pd.DataFrame(pca.fit_transform(train[num_copy]),columns = ['PCA_' +str(i) for i in range(1,n_components+1)])\n",
    "test_pca = pd.DataFrame(pca.transform(test[num_copy]),columns = ['PCA_'+str(i) for i in range(1,n_components+1)])\n",
    "\n",
    "train = pd.concat([train,train_pca],axis = 1)\n",
    "test = pd.concat([test,test_pca],axis= 1)\n",
    "\n",
    "#remove extra past numerical cols\n",
    "train.drop(num_copy, axis = 1,inplace = True)\n",
    "test.drop(num_copy, axis = 1, inplace = True)\n"
   ]
  },
  {
   "cell_type": "code",
   "execution_count": 14,
   "id": "1d9bda8d",
   "metadata": {
    "execution": {
     "iopub.execute_input": "2023-04-11T12:35:00.110535Z",
     "iopub.status.busy": "2023-04-11T12:35:00.109586Z",
     "iopub.status.idle": "2023-04-11T12:35:00.123512Z",
     "shell.execute_reply": "2023-04-11T12:35:00.121730Z"
    },
    "papermill": {
     "duration": 0.046721,
     "end_time": "2023-04-11T12:35:00.128136",
     "exception": false,
     "start_time": "2023-04-11T12:35:00.081415",
     "status": "completed"
    },
    "tags": []
   },
   "outputs": [],
   "source": [
    "train_X = train.drop('Made_Purchase',axis = 'columns')\n",
    "y = train['Made_Purchase']"
   ]
  },
  {
   "cell_type": "code",
   "execution_count": 15,
   "id": "98da5e90",
   "metadata": {
    "execution": {
     "iopub.execute_input": "2023-04-11T12:35:00.153231Z",
     "iopub.status.busy": "2023-04-11T12:35:00.152760Z",
     "iopub.status.idle": "2023-04-11T12:35:00.164507Z",
     "shell.execute_reply": "2023-04-11T12:35:00.163468Z"
    },
    "papermill": {
     "duration": 0.026084,
     "end_time": "2023-04-11T12:35:00.167150",
     "exception": false,
     "start_time": "2023-04-11T12:35:00.141066",
     "status": "completed"
    },
    "tags": []
   },
   "outputs": [],
   "source": [
    "#lets get a validation set \n",
    "from sklearn.model_selection import train_test_split\n",
    "X_train,X_valid, y_train, y_valid = train_test_split(train_X,y,train_size=0.8, test_size = 0.2)"
   ]
  },
  {
   "cell_type": "code",
   "execution_count": 16,
   "id": "a1809767",
   "metadata": {
    "execution": {
     "iopub.execute_input": "2023-04-11T12:35:00.189765Z",
     "iopub.status.busy": "2023-04-11T12:35:00.188973Z",
     "iopub.status.idle": "2023-04-11T12:35:01.052676Z",
     "shell.execute_reply": "2023-04-11T12:35:01.050823Z"
    },
    "papermill": {
     "duration": 0.880118,
     "end_time": "2023-04-11T12:35:01.057397",
     "exception": false,
     "start_time": "2023-04-11T12:35:00.177279",
     "status": "completed"
    },
    "tags": []
   },
   "outputs": [
    {
     "name": "stdout",
     "output_type": "stream",
     "text": [
      "Cross validation score :  [0.66228256 0.66991939 0.66694951 0.67034366 0.66129032]\n",
      "Mean cross validation score:  0.6661570886994128\n"
     ]
    }
   ],
   "source": [
    "from sklearn.discriminant_analysis import LinearDiscriminantAnalysis \n",
    "from sklearn.model_selection import cross_val_score\n",
    "from sklearn.utils import shuffle\n",
    "\n",
    "lda = LinearDiscriminantAnalysis()\n",
    "X_train, y_train = shuffle(X_train, y_train, random_state = 0)\n",
    "lda.fit(X_train, y_train)\n",
    "\n",
    "csv = cross_val_score(lda,X_train,y_train,cv = 5)\n",
    "print('Cross validation score : ',csv)\n",
    "print('Mean cross validation score: ', csv.mean())\n"
   ]
  },
  {
   "cell_type": "code",
   "execution_count": 17,
   "id": "d2b8c90e",
   "metadata": {
    "execution": {
     "iopub.execute_input": "2023-04-11T12:35:01.113257Z",
     "iopub.status.busy": "2023-04-11T12:35:01.112461Z",
     "iopub.status.idle": "2023-04-11T12:35:02.552004Z",
     "shell.execute_reply": "2023-04-11T12:35:02.550126Z"
    },
    "papermill": {
     "duration": 1.475952,
     "end_time": "2023-04-11T12:35:02.559677",
     "exception": false,
     "start_time": "2023-04-11T12:35:01.083725",
     "status": "completed"
    },
    "tags": []
   },
   "outputs": [
    {
     "name": "stdout",
     "output_type": "stream",
     "text": [
      "Cross validation score for logistic regression:  [0.27723108 0.52342159 0.35777325 0.48676171 0.57331976]\n",
      "Mean cross validation score:  0.4437014778626981\n",
      "Accuracy score:  0.658975229046488\n",
      "Classification report: \n",
      "               precision    recall  f1-score   support\n",
      "\n",
      "       False       0.66      0.88      0.76      1786\n",
      "        True       0.64      0.31      0.42      1161\n",
      "\n",
      "    accuracy                           0.66      2947\n",
      "   macro avg       0.65      0.60      0.59      2947\n",
      "weighted avg       0.65      0.66      0.63      2947\n",
      "\n",
      "Confusion matrix: \n",
      " [[1578  208]\n",
      " [ 797  364]]\n"
     ]
    }
   ],
   "source": [
    "from sklearn.linear_model import LogisticRegression\n",
    "from sklearn.metrics import accuracy_score,classification_report, confusion_matrix\n",
    "# Build baseline model using logistic regression\n",
    "logr_model = LogisticRegression()\n",
    "logr_model.fit(train_X, y)\n",
    "\n",
    "csv_log = cross_val_score(logr_model,train_X,y,cv = 5)\n",
    "print('Cross validation score for logistic regression: ',csv_log)\n",
    "print('Mean cross validation score: ', csv_log.mean())\n",
    "\n",
    "# Evaluate the model\n",
    "y_pred_logr = logr_model.predict(X_valid)\n",
    "print(\"Accuracy score: \", accuracy_score(y_valid, y_pred_logr))\n",
    "print(\"Classification report: \\n\", classification_report(y_valid, y_pred_logr))\n",
    "print(\"Confusion matrix: \\n\", confusion_matrix(y_valid, y_pred_logr))"
   ]
  },
  {
   "cell_type": "code",
   "execution_count": 18,
   "id": "6ac3fd06",
   "metadata": {
    "execution": {
     "iopub.execute_input": "2023-04-11T12:35:02.625299Z",
     "iopub.status.busy": "2023-04-11T12:35:02.624219Z",
     "iopub.status.idle": "2023-04-11T12:41:52.264111Z",
     "shell.execute_reply": "2023-04-11T12:41:52.262722Z"
    },
    "papermill": {
     "duration": 409.686733,
     "end_time": "2023-04-11T12:41:52.276930",
     "exception": false,
     "start_time": "2023-04-11T12:35:02.590197",
     "status": "completed"
    },
    "tags": []
   },
   "outputs": [
    {
     "name": "stdout",
     "output_type": "stream",
     "text": [
      "KNN best parameters:  {'n_neighbors': 92}\n",
      "KNN best score:  0.6061336381527374\n"
     ]
    }
   ],
   "source": [
    "from sklearn.neighbors import KNeighborsClassifier\n",
    "from sklearn.svm import SVC\n",
    "from sklearn.model_selection import GridSearchCV\n",
    "# Apply KNN model\n",
    "knn_model = KNeighborsClassifier()\n",
    "knn_param = {\"n_neighbors\": range(1, 100)}\n",
    "knn_grid = GridSearchCV(knn_model, knn_param, cv=5)\n",
    "knn_grid.fit(train_X, y)\n",
    "print(\"KNN best parameters: \", knn_grid.best_params_)\n",
    "print(\"KNN best score: \", knn_grid.best_score_)\n",
    "\n",
    "\n"
   ]
  },
  {
   "cell_type": "code",
   "execution_count": 19,
   "id": "dd09ae9c",
   "metadata": {
    "execution": {
     "iopub.execute_input": "2023-04-11T12:41:52.299806Z",
     "iopub.status.busy": "2023-04-11T12:41:52.299394Z",
     "iopub.status.idle": "2023-04-11T12:41:52.307308Z",
     "shell.execute_reply": "2023-04-11T12:41:52.305964Z"
    },
    "papermill": {
     "duration": 0.022523,
     "end_time": "2023-04-11T12:41:52.309694",
     "exception": false,
     "start_time": "2023-04-11T12:41:52.287171",
     "status": "completed"
    },
    "tags": []
   },
   "outputs": [
    {
     "data": {
      "text/plain": [
       "'\\n#Apply SVM model\\nsvm_model = SVC()\\nsvm_param = {\"C\": [0.1, 1], \"kernel\": [\"linear\", \"poly\", \"rbf\", \"sigmoid\"]}\\nsvm_grid = GridSearchCV(svm_model, svm_param, cv=5)\\nsvm_grid.fit(X_train_scaled, y_train)\\nprint(\"SVM best parameters: \", svm_grid.best_params_)\\nprint(\"SVM best score: \", svm_grid.best_score_) '"
      ]
     },
     "execution_count": 19,
     "metadata": {},
     "output_type": "execute_result"
    }
   ],
   "source": [
    "'''\n",
    "#Apply SVM model\n",
    "svm_model = SVC()\n",
    "svm_param = {\"C\": [0.1, 1], \"kernel\": [\"linear\", \"poly\", \"rbf\", \"sigmoid\"]}\n",
    "svm_grid = GridSearchCV(svm_model, svm_param, cv=5)\n",
    "svm_grid.fit(X_train_scaled, y_train)\n",
    "print(\"SVM best parameters: \", svm_grid.best_params_)\n",
    "print(\"SVM best score: \", svm_grid.best_score_) '''"
   ]
  },
  {
   "cell_type": "code",
   "execution_count": 20,
   "id": "70f4968a",
   "metadata": {
    "execution": {
     "iopub.execute_input": "2023-04-11T12:41:52.332991Z",
     "iopub.status.busy": "2023-04-11T12:41:52.332576Z",
     "iopub.status.idle": "2023-04-11T12:41:52.534355Z",
     "shell.execute_reply": "2023-04-11T12:41:52.532974Z"
    },
    "papermill": {
     "duration": 0.217983,
     "end_time": "2023-04-11T12:41:52.538165",
     "exception": false,
     "start_time": "2023-04-11T12:41:52.320182",
     "status": "completed"
    },
    "tags": []
   },
   "outputs": [
    {
     "data": {
      "text/plain": [
       "'\\n# Apply CART model\\ncart_model = DecisionTreeClassifier()\\ncart_param = {\"max_depth\": range(1, 11)}\\ncart_grid = GridSearchCV(cart_model,cart_param,cv = 10)\\ncart_grid.fit(X_train_scaled,y_train)\\nprint(\"CART best parameters: \", cart_grid.best_params_)\\nprint(\"CART best score: \", cart_grid.best_score_)\\n'"
      ]
     },
     "execution_count": 20,
     "metadata": {},
     "output_type": "execute_result"
    }
   ],
   "source": [
    "\n",
    "from sklearn.tree import DecisionTreeClassifier\n",
    "from sklearn.ensemble import BaggingClassifier, AdaBoostClassifier\n",
    "from sklearn.neural_network import MLPClassifier\n",
    "'''\n",
    "# Apply CART model\n",
    "cart_model = DecisionTreeClassifier()\n",
    "cart_param = {\"max_depth\": range(1, 11)}\n",
    "cart_grid = GridSearchCV(cart_model,cart_param,cv = 10)\n",
    "cart_grid.fit(X_train_scaled,y_train)\n",
    "print(\"CART best parameters: \", cart_grid.best_params_)\n",
    "print(\"CART best score: \", cart_grid.best_score_)\n",
    "'''"
   ]
  },
  {
   "cell_type": "code",
   "execution_count": 21,
   "id": "3f58e8de",
   "metadata": {
    "execution": {
     "iopub.execute_input": "2023-04-11T12:41:52.561940Z",
     "iopub.status.busy": "2023-04-11T12:41:52.560856Z",
     "iopub.status.idle": "2023-04-11T12:41:52.566834Z",
     "shell.execute_reply": "2023-04-11T12:41:52.566043Z"
    },
    "papermill": {
     "duration": 0.020289,
     "end_time": "2023-04-11T12:41:52.569187",
     "exception": false,
     "start_time": "2023-04-11T12:41:52.548898",
     "status": "completed"
    },
    "tags": []
   },
   "outputs": [
    {
     "data": {
      "text/plain": [
       "'\\n#applying bag model\\nbag_model = BaggingClassifier(base_estimator=cart_grid.best_estimator_, n_estimators = 100)\\n\\nbag_model.fit(train_X, y)\\n'"
      ]
     },
     "execution_count": 21,
     "metadata": {},
     "output_type": "execute_result"
    }
   ],
   "source": [
    "'''\n",
    "#applying bag model\n",
    "bag_model = BaggingClassifier(base_estimator=cart_grid.best_estimator_, n_estimators = 100)\n",
    "\n",
    "bag_model.fit(train_X, y)\n",
    "'''"
   ]
  },
  {
   "cell_type": "code",
   "execution_count": 22,
   "id": "ba305b76",
   "metadata": {
    "execution": {
     "iopub.execute_input": "2023-04-11T12:41:52.592746Z",
     "iopub.status.busy": "2023-04-11T12:41:52.591951Z",
     "iopub.status.idle": "2023-04-11T12:41:52.599189Z",
     "shell.execute_reply": "2023-04-11T12:41:52.597946Z"
    },
    "papermill": {
     "duration": 0.021952,
     "end_time": "2023-04-11T12:41:52.601695",
     "exception": false,
     "start_time": "2023-04-11T12:41:52.579743",
     "status": "completed"
    },
    "tags": []
   },
   "outputs": [
    {
     "data": {
      "text/plain": [
       "'\\n#Apply Boosting model\\nboosting = AdaBoostClassifier(base_estimator=cart_grid.best_estimator_, n_estimators=100, learning_rate=0.1)\\nboosting.fit(train_X, y)'"
      ]
     },
     "execution_count": 22,
     "metadata": {},
     "output_type": "execute_result"
    }
   ],
   "source": [
    "'''\n",
    "#Apply Boosting model\n",
    "boosting = AdaBoostClassifier(base_estimator=cart_grid.best_estimator_, n_estimators=100, learning_rate=0.1)\n",
    "boosting.fit(train_X, y)'''"
   ]
  },
  {
   "cell_type": "code",
   "execution_count": 23,
   "id": "5c6b1780",
   "metadata": {
    "execution": {
     "iopub.execute_input": "2023-04-11T12:41:52.625617Z",
     "iopub.status.busy": "2023-04-11T12:41:52.625171Z",
     "iopub.status.idle": "2023-04-11T12:41:52.633108Z",
     "shell.execute_reply": "2023-04-11T12:41:52.631712Z"
    },
    "papermill": {
     "duration": 0.023326,
     "end_time": "2023-04-11T12:41:52.635902",
     "exception": false,
     "start_time": "2023-04-11T12:41:52.612576",
     "status": "completed"
    },
    "tags": []
   },
   "outputs": [
    {
     "data": {
      "text/plain": [
       "'\\n#Apply MLP model\\nmlp_model = MLPClassifier(max_iter=1000)\\nmlp_param = {\"hidden_layer_sizes\": [(10,), (50,)], \"alpha\": [0.0001, 0.001, 0.01]}\\nmlp_grid = GridSearchCV(mlp_model, mlp_param, cv=5)\\nmlp_grid.fit(train_X, y)\\nprint(\"MLP best parameters: \", mlp_grid.best_params_)\\nprint(\"MLP best score: \", mlp_grid.best_score_)\\n'"
      ]
     },
     "execution_count": 23,
     "metadata": {},
     "output_type": "execute_result"
    }
   ],
   "source": [
    "'''\n",
    "#Apply MLP model\n",
    "mlp_model = MLPClassifier(max_iter=1000)\n",
    "mlp_param = {\"hidden_layer_sizes\": [(10,), (50,)], \"alpha\": [0.0001, 0.001, 0.01]}\n",
    "mlp_grid = GridSearchCV(mlp_model, mlp_param, cv=5)\n",
    "mlp_grid.fit(train_X, y)\n",
    "print(\"MLP best parameters: \", mlp_grid.best_params_)\n",
    "print(\"MLP best score: \", mlp_grid.best_score_)\n",
    "'''"
   ]
  },
  {
   "cell_type": "markdown",
   "id": "698b3ceb",
   "metadata": {
    "papermill": {
     "duration": 0.010568,
     "end_time": "2023-04-11T12:41:52.657756",
     "exception": false,
     "start_time": "2023-04-11T12:41:52.647188",
     "status": "completed"
    },
    "tags": []
   },
   "source": [
    "**model**"
   ]
  },
  {
   "cell_type": "code",
   "execution_count": 24,
   "id": "4c7e05cf",
   "metadata": {
    "execution": {
     "iopub.execute_input": "2023-04-11T12:41:52.682484Z",
     "iopub.status.busy": "2023-04-11T12:41:52.682062Z",
     "iopub.status.idle": "2023-04-11T12:48:02.631680Z",
     "shell.execute_reply": "2023-04-11T12:48:02.629739Z"
    },
    "jupyter": {
     "source_hidden": true
    },
    "papermill": {
     "duration": 369.98248,
     "end_time": "2023-04-11T12:48:02.651092",
     "exception": false,
     "start_time": "2023-04-11T12:41:52.668612",
     "status": "completed"
    },
    "tags": []
   },
   "outputs": [
    {
     "data": {
      "text/plain": [
       "\"\\nmodel=VotingClassifier(estimators=[\\n    ('lr', LogisticRegression(solver='liblinear',penalty='l1', random_state=1) ),\\n   KNeighborsClassifier(n_neighbors = 48)\\n    #('rf', GradientBoostingClassifier(n_estimators=100, learning_rate=0.1, max_depth=1, random_state=0) ),\\n    ('ab', AdaBoostClassifier(n_estimators=300, learning_rate=10, random_state=1) ),\\n    ('sv', SVC(kernel='rbf', C=0.5,probability = True,gamma = 'auto')),\\n    \\n    #('bc',BaggingClassifier( n_estimators = 50)),\\n    #('mlp', MLPClassifier(hidden_layer_sizes=(10,), alpha=0.1))\\n    ],\\n    voting='soft')\\nresult = cross_val_score(model, X_train_scaled, y_train, cv=5)\""
      ]
     },
     "execution_count": 24,
     "metadata": {},
     "output_type": "execute_result"
    }
   ],
   "source": [
    "from sklearn.linear_model import LogisticRegression\n",
    "from sklearn.ensemble import GradientBoostingClassifier\n",
    "from sklearn.ensemble import RandomForestClassifier, VotingClassifier\n",
    "from sklearn.ensemble import AdaBoostClassifier,BaggingClassifier\n",
    "from sklearn.model_selection import cross_val_score\n",
    "from sklearn.neighbors import KNeighborsClassifier\n",
    "from sklearn.neural_network import MLPClassifier\n",
    "from sklearn.svm import SVC\n",
    "from sklearn.naive_bayes import BernoulliNB\n",
    "\n",
    "model=VotingClassifier(estimators=[\n",
    "     ('lr', LogisticRegression(solver='liblinear',penalty='l2', random_state=0) ),\n",
    "    #('rf', GradientBoostingClassifier() ),\n",
    "    #('rfc',RandomForestClassifier()),\n",
    "    ('ab', AdaBoostClassifier(n_estimators=300, learning_rate=15, random_state=1) ),\n",
    "    #('gnb',BernoulliNB()),\n",
    "    ('lda',LinearDiscriminantAnalysis()),\n",
    "    #('sv', SVC(kernel = 'linear' ,probability = True)),\n",
    "    #('knn',KNeighborsClassifier(n_neighbors = 45)),\n",
    "    #('bc',BaggingClassifier( n_estimators = 300)),\n",
    "    #('mlp', MLPClassifier(alpha= 0.001, hidden_layer_sizes= (10,)))\n",
    "    ],\n",
    "    voting='soft')\n",
    "result = cross_val_score(model,train_X, y, cv=35)#cv=20\n",
    "\n",
    "\n",
    "'''\n",
    "model=VotingClassifier(estimators=[\n",
    "    ('lr', LogisticRegression(solver='liblinear',penalty='l1', random_state=1) ),\n",
    "   KNeighborsClassifier(n_neighbors = 48)\n",
    "    #('rf', GradientBoostingClassifier(n_estimators=100, learning_rate=0.1, max_depth=1, random_state=0) ),\n",
    "    ('ab', AdaBoostClassifier(n_estimators=300, learning_rate=10, random_state=1) ),\n",
    "    ('sv', SVC(kernel='rbf', C=0.5,probability = True,gamma = 'auto')),\n",
    "    \n",
    "    #('bc',BaggingClassifier( n_estimators = 50)),\n",
    "    #('mlp', MLPClassifier(hidden_layer_sizes=(10,), alpha=0.1))\n",
    "    ],\n",
    "    voting='soft')\n",
    "result = cross_val_score(model, X_train_scaled, y_train, cv=5)'''"
   ]
  },
  {
   "cell_type": "code",
   "execution_count": 25,
   "id": "880e2185",
   "metadata": {
    "execution": {
     "iopub.execute_input": "2023-04-11T12:48:02.714664Z",
     "iopub.status.busy": "2023-04-11T12:48:02.713636Z",
     "iopub.status.idle": "2023-04-11T12:48:02.724249Z",
     "shell.execute_reply": "2023-04-11T12:48:02.723021Z"
    },
    "papermill": {
     "duration": 0.045975,
     "end_time": "2023-04-11T12:48:02.726648",
     "exception": false,
     "start_time": "2023-04-11T12:48:02.680673",
     "status": "completed"
    },
    "tags": []
   },
   "outputs": [
    {
     "data": {
      "text/plain": [
       "(0.12248367804500761, 0.6560128944689516)"
      ]
     },
     "execution_count": 25,
     "metadata": {},
     "output_type": "execute_result"
    }
   ],
   "source": [
    "result.std(), result.mean()"
   ]
  },
  {
   "cell_type": "code",
   "execution_count": 26,
   "id": "ad9c3afb",
   "metadata": {
    "execution": {
     "iopub.execute_input": "2023-04-11T12:48:02.751738Z",
     "iopub.status.busy": "2023-04-11T12:48:02.750912Z",
     "iopub.status.idle": "2023-04-11T12:48:02.758234Z",
     "shell.execute_reply": "2023-04-11T12:48:02.757132Z"
    },
    "papermill": {
     "duration": 0.023107,
     "end_time": "2023-04-11T12:48:02.760820",
     "exception": false,
     "start_time": "2023-04-11T12:48:02.737713",
     "status": "completed"
    },
    "tags": []
   },
   "outputs": [
    {
     "data": {
      "text/plain": [
       "array([0.70783848, 0.96912114, 0.90736342, 0.88598575, 0.85035629,\n",
       "       0.79809976, 0.80285036, 0.78384798, 0.83610451, 0.84085511,\n",
       "       0.64608076, 0.58907363, 0.59619952, 0.56294537, 0.56294537,\n",
       "       0.57007126, 0.54394299, 0.57957245, 0.56294537, 0.60095012,\n",
       "       0.56769596, 0.61045131, 0.59144893, 0.58669834, 0.59382423,\n",
       "       0.6128266 , 0.59857482, 0.58432304, 0.56057007, 0.54869359,\n",
       "       0.55819477, 0.56904762, 0.60952381, 0.58095238, 0.59047619])"
      ]
     },
     "execution_count": 26,
     "metadata": {},
     "output_type": "execute_result"
    }
   ],
   "source": [
    "result"
   ]
  },
  {
   "cell_type": "code",
   "execution_count": 27,
   "id": "288c81ea",
   "metadata": {
    "execution": {
     "iopub.execute_input": "2023-04-11T12:48:02.785663Z",
     "iopub.status.busy": "2023-04-11T12:48:02.784854Z",
     "iopub.status.idle": "2023-04-11T12:48:14.529052Z",
     "shell.execute_reply": "2023-04-11T12:48:14.527257Z"
    },
    "papermill": {
     "duration": 11.762022,
     "end_time": "2023-04-11T12:48:14.534213",
     "exception": false,
     "start_time": "2023-04-11T12:48:02.772191",
     "status": "completed"
    },
    "tags": []
   },
   "outputs": [
    {
     "data": {
      "text/plain": [
       "VotingClassifier(estimators=[('lr',\n",
       "                              LogisticRegression(random_state=0,\n",
       "                                                 solver='liblinear')),\n",
       "                             ('ab',\n",
       "                              AdaBoostClassifier(learning_rate=15,\n",
       "                                                 n_estimators=300,\n",
       "                                                 random_state=1)),\n",
       "                             ('lda', LinearDiscriminantAnalysis())],\n",
       "                 voting='soft')"
      ]
     },
     "execution_count": 27,
     "metadata": {},
     "output_type": "execute_result"
    }
   ],
   "source": [
    "#using the same model\n",
    "model.fit(train_X, y)\n",
    "#predictions = model.predict(X_test)"
   ]
  },
  {
   "cell_type": "code",
   "execution_count": 28,
   "id": "9bb32fd0",
   "metadata": {
    "execution": {
     "iopub.execute_input": "2023-04-11T12:48:14.599518Z",
     "iopub.status.busy": "2023-04-11T12:48:14.598702Z",
     "iopub.status.idle": "2023-04-11T12:48:15.592242Z",
     "shell.execute_reply": "2023-04-11T12:48:15.590288Z"
    },
    "papermill": {
     "duration": 1.03344,
     "end_time": "2023-04-11T12:48:15.597996",
     "exception": false,
     "start_time": "2023-04-11T12:48:14.564556",
     "status": "completed"
    },
    "tags": []
   },
   "outputs": [
    {
     "name": "stdout",
     "output_type": "stream",
     "text": [
      "              precision    recall  f1-score   support\n",
      "\n",
      "       False       0.67      0.88      0.76      9065\n",
      "        True       0.63      0.32      0.42      5666\n",
      "\n",
      "    accuracy                           0.66     14731\n",
      "   macro avg       0.65      0.60      0.59     14731\n",
      "weighted avg       0.66      0.66      0.63     14731\n",
      "\n"
     ]
    }
   ],
   "source": [
    "print(classification_report(y, model.predict(train_X)))\n"
   ]
  },
  {
   "cell_type": "code",
   "execution_count": 29,
   "id": "65b847f8",
   "metadata": {
    "execution": {
     "iopub.execute_input": "2023-04-11T12:48:15.658530Z",
     "iopub.status.busy": "2023-04-11T12:48:15.657996Z",
     "iopub.status.idle": "2023-04-11T12:48:15.970613Z",
     "shell.execute_reply": "2023-04-11T12:48:15.968680Z"
    },
    "papermill": {
     "duration": 0.345534,
     "end_time": "2023-04-11T12:48:15.976182",
     "exception": false,
     "start_time": "2023-04-11T12:48:15.630648",
     "status": "completed"
    },
    "tags": []
   },
   "outputs": [
    {
     "name": "stdout",
     "output_type": "stream",
     "text": [
      "Accuracy score:  0.6582965727858839\n",
      "Classification report: \n",
      "               precision    recall  f1-score   support\n",
      "\n",
      "       False       0.66      0.88      0.76      1786\n",
      "        True       0.63      0.31      0.42      1161\n",
      "\n",
      "    accuracy                           0.66      2947\n",
      "   macro avg       0.65      0.60      0.59      2947\n",
      "weighted avg       0.65      0.66      0.62      2947\n",
      "\n",
      "Confusion matrix: \n",
      " [[1576  210]\n",
      " [ 797  364]]\n"
     ]
    }
   ],
   "source": [
    "from sklearn.metrics import accuracy_score,classification_report, confusion_matrix\n",
    "\n",
    "# Evaluate the model\n",
    "y_pred =model.predict(X_valid)\n",
    "print(\"Accuracy score: \", accuracy_score(y_valid, y_pred))\n",
    "print(\"Classification report: \\n\", classification_report(y_valid, y_pred))\n",
    "print(\"Confusion matrix: \\n\", confusion_matrix(y_valid, y_pred))\n"
   ]
  },
  {
   "cell_type": "code",
   "execution_count": 30,
   "id": "1e34bb52",
   "metadata": {
    "execution": {
     "iopub.execute_input": "2023-04-11T12:48:16.045725Z",
     "iopub.status.busy": "2023-04-11T12:48:16.044957Z",
     "iopub.status.idle": "2023-04-11T12:48:28.245193Z",
     "shell.execute_reply": "2023-04-11T12:48:28.243327Z"
    },
    "papermill": {
     "duration": 12.242028,
     "end_time": "2023-04-11T12:48:28.250546",
     "exception": false,
     "start_time": "2023-04-11T12:48:16.008518",
     "status": "completed"
    },
    "tags": []
   },
   "outputs": [],
   "source": [
    "#using the same model\n",
    "model.fit(train_X, y)\n",
    "predictions = model.predict(test)"
   ]
  },
  {
   "cell_type": "code",
   "execution_count": 31,
   "id": "5019b260",
   "metadata": {
    "execution": {
     "iopub.execute_input": "2023-04-11T12:48:28.317611Z",
     "iopub.status.busy": "2023-04-11T12:48:28.316801Z",
     "iopub.status.idle": "2023-04-11T12:48:28.326220Z",
     "shell.execute_reply": "2023-04-11T12:48:28.324336Z"
    },
    "papermill": {
     "duration": 0.048818,
     "end_time": "2023-04-11T12:48:28.330934",
     "exception": false,
     "start_time": "2023-04-11T12:48:28.282116",
     "status": "completed"
    },
    "tags": []
   },
   "outputs": [],
   "source": [
    "predictions = predictions.astype(bool)\n"
   ]
  },
  {
   "cell_type": "code",
   "execution_count": 32,
   "id": "7dabad35",
   "metadata": {
    "execution": {
     "iopub.execute_input": "2023-04-11T12:48:28.375292Z",
     "iopub.status.busy": "2023-04-11T12:48:28.374884Z",
     "iopub.status.idle": "2023-04-11T12:48:28.379747Z",
     "shell.execute_reply": "2023-04-11T12:48:28.378385Z"
    },
    "papermill": {
     "duration": 0.020523,
     "end_time": "2023-04-11T12:48:28.382538",
     "exception": false,
     "start_time": "2023-04-11T12:48:28.362015",
     "status": "completed"
    },
    "tags": []
   },
   "outputs": [],
   "source": [
    "#predictions.describe()"
   ]
  },
  {
   "cell_type": "code",
   "execution_count": 33,
   "id": "28fc80a8",
   "metadata": {
    "execution": {
     "iopub.execute_input": "2023-04-11T12:48:28.407757Z",
     "iopub.status.busy": "2023-04-11T12:48:28.407357Z",
     "iopub.status.idle": "2023-04-11T12:48:28.445889Z",
     "shell.execute_reply": "2023-04-11T12:48:28.444385Z"
    },
    "papermill": {
     "duration": 0.05472,
     "end_time": "2023-04-11T12:48:28.448885",
     "exception": false,
     "start_time": "2023-04-11T12:48:28.394165",
     "status": "completed"
    },
    "tags": []
   },
   "outputs": [
    {
     "data": {
      "text/html": [
       "<div>\n",
       "<style scoped>\n",
       "    .dataframe tbody tr th:only-of-type {\n",
       "        vertical-align: middle;\n",
       "    }\n",
       "\n",
       "    .dataframe tbody tr th {\n",
       "        vertical-align: top;\n",
       "    }\n",
       "\n",
       "    .dataframe thead th {\n",
       "        text-align: right;\n",
       "    }\n",
       "</style>\n",
       "<table border=\"1\" class=\"dataframe\">\n",
       "  <thead>\n",
       "    <tr style=\"text-align: right;\">\n",
       "      <th></th>\n",
       "      <th>id</th>\n",
       "      <th>Made_Purchase</th>\n",
       "    </tr>\n",
       "  </thead>\n",
       "  <tbody>\n",
       "    <tr>\n",
       "      <th>0</th>\n",
       "      <td>0</td>\n",
       "      <td>False</td>\n",
       "    </tr>\n",
       "    <tr>\n",
       "      <th>1</th>\n",
       "      <td>1</td>\n",
       "      <td>False</td>\n",
       "    </tr>\n",
       "    <tr>\n",
       "      <th>2</th>\n",
       "      <td>2</td>\n",
       "      <td>False</td>\n",
       "    </tr>\n",
       "    <tr>\n",
       "      <th>3</th>\n",
       "      <td>3</td>\n",
       "      <td>False</td>\n",
       "    </tr>\n",
       "    <tr>\n",
       "      <th>4</th>\n",
       "      <td>4</td>\n",
       "      <td>False</td>\n",
       "    </tr>\n",
       "    <tr>\n",
       "      <th>...</th>\n",
       "      <td>...</td>\n",
       "      <td>...</td>\n",
       "    </tr>\n",
       "    <tr>\n",
       "      <th>6594</th>\n",
       "      <td>6594</td>\n",
       "      <td>False</td>\n",
       "    </tr>\n",
       "    <tr>\n",
       "      <th>6595</th>\n",
       "      <td>6595</td>\n",
       "      <td>False</td>\n",
       "    </tr>\n",
       "    <tr>\n",
       "      <th>6596</th>\n",
       "      <td>6596</td>\n",
       "      <td>False</td>\n",
       "    </tr>\n",
       "    <tr>\n",
       "      <th>6597</th>\n",
       "      <td>6597</td>\n",
       "      <td>False</td>\n",
       "    </tr>\n",
       "    <tr>\n",
       "      <th>6598</th>\n",
       "      <td>6598</td>\n",
       "      <td>False</td>\n",
       "    </tr>\n",
       "  </tbody>\n",
       "</table>\n",
       "<p>6599 rows × 2 columns</p>\n",
       "</div>"
      ],
      "text/plain": [
       "        id  Made_Purchase\n",
       "0        0          False\n",
       "1        1          False\n",
       "2        2          False\n",
       "3        3          False\n",
       "4        4          False\n",
       "...    ...            ...\n",
       "6594  6594          False\n",
       "6595  6595          False\n",
       "6596  6596          False\n",
       "6597  6597          False\n",
       "6598  6598          False\n",
       "\n",
       "[6599 rows x 2 columns]"
      ]
     },
     "execution_count": 33,
     "metadata": {},
     "output_type": "execute_result"
    }
   ],
   "source": [
    "submission=pd.DataFrame(columns=['id', 'Made_Purchase'])\n",
    "submission['id']=[i for i in range(len(predictions))]\n",
    "submission[\"Made_Purchase\"]=[i for i in predictions]\n",
    "submission.to_csv('submission.csv',index=False)\n",
    "submission"
   ]
  },
  {
   "cell_type": "code",
   "execution_count": 34,
   "id": "156fe161",
   "metadata": {
    "execution": {
     "iopub.execute_input": "2023-04-11T12:48:28.476738Z",
     "iopub.status.busy": "2023-04-11T12:48:28.476327Z",
     "iopub.status.idle": "2023-04-11T12:48:28.488898Z",
     "shell.execute_reply": "2023-04-11T12:48:28.487263Z"
    },
    "papermill": {
     "duration": 0.029,
     "end_time": "2023-04-11T12:48:28.491780",
     "exception": false,
     "start_time": "2023-04-11T12:48:28.462780",
     "status": "completed"
    },
    "tags": []
   },
   "outputs": [
    {
     "data": {
      "text/html": [
       "<div>\n",
       "<style scoped>\n",
       "    .dataframe tbody tr th:only-of-type {\n",
       "        vertical-align: middle;\n",
       "    }\n",
       "\n",
       "    .dataframe tbody tr th {\n",
       "        vertical-align: top;\n",
       "    }\n",
       "\n",
       "    .dataframe thead th {\n",
       "        text-align: right;\n",
       "    }\n",
       "</style>\n",
       "<table border=\"1\" class=\"dataframe\">\n",
       "  <thead>\n",
       "    <tr style=\"text-align: right;\">\n",
       "      <th></th>\n",
       "      <th>id</th>\n",
       "      <th>Made_Purchase</th>\n",
       "    </tr>\n",
       "  </thead>\n",
       "  <tbody>\n",
       "    <tr>\n",
       "      <th>0</th>\n",
       "      <td>0</td>\n",
       "      <td>False</td>\n",
       "    </tr>\n",
       "    <tr>\n",
       "      <th>1</th>\n",
       "      <td>1</td>\n",
       "      <td>False</td>\n",
       "    </tr>\n",
       "    <tr>\n",
       "      <th>2</th>\n",
       "      <td>2</td>\n",
       "      <td>False</td>\n",
       "    </tr>\n",
       "    <tr>\n",
       "      <th>3</th>\n",
       "      <td>3</td>\n",
       "      <td>False</td>\n",
       "    </tr>\n",
       "    <tr>\n",
       "      <th>4</th>\n",
       "      <td>4</td>\n",
       "      <td>False</td>\n",
       "    </tr>\n",
       "  </tbody>\n",
       "</table>\n",
       "</div>"
      ],
      "text/plain": [
       "   id  Made_Purchase\n",
       "0   0          False\n",
       "1   1          False\n",
       "2   2          False\n",
       "3   3          False\n",
       "4   4          False"
      ]
     },
     "execution_count": 34,
     "metadata": {},
     "output_type": "execute_result"
    }
   ],
   "source": [
    "submission.head()"
   ]
  },
  {
   "cell_type": "code",
   "execution_count": 35,
   "id": "dd708e7f",
   "metadata": {
    "execution": {
     "iopub.execute_input": "2023-04-11T12:48:28.518973Z",
     "iopub.status.busy": "2023-04-11T12:48:28.518533Z",
     "iopub.status.idle": "2023-04-11T12:48:28.529623Z",
     "shell.execute_reply": "2023-04-11T12:48:28.528671Z"
    },
    "papermill": {
     "duration": 0.027782,
     "end_time": "2023-04-11T12:48:28.532165",
     "exception": false,
     "start_time": "2023-04-11T12:48:28.504383",
     "status": "completed"
    },
    "tags": []
   },
   "outputs": [
    {
     "data": {
      "text/plain": [
       "False    5347\n",
       "True     1252\n",
       "Name: Made_Purchase, dtype: int64"
      ]
     },
     "execution_count": 35,
     "metadata": {},
     "output_type": "execute_result"
    }
   ],
   "source": [
    "submission['Made_Purchase'].value_counts()"
   ]
  }
 ],
 "metadata": {
  "kernelspec": {
   "display_name": "Python 3",
   "language": "python",
   "name": "python3"
  },
  "language_info": {
   "codemirror_mode": {
    "name": "ipython",
    "version": 3
   },
   "file_extension": ".py",
   "mimetype": "text/x-python",
   "name": "python",
   "nbconvert_exporter": "python",
   "pygments_lexer": "ipython3",
   "version": "3.7.12"
  },
  "papermill": {
   "default_parameters": {},
   "duration": 822.573668,
   "end_time": "2023-04-11T12:48:29.370245",
   "environment_variables": {},
   "exception": null,
   "input_path": "__notebook__.ipynb",
   "output_path": "__notebook__.ipynb",
   "parameters": {},
   "start_time": "2023-04-11T12:34:46.796577",
   "version": "2.4.0"
  }
 },
 "nbformat": 4,
 "nbformat_minor": 5
}
